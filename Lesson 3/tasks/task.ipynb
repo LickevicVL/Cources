{
 "cells": [
  {
   "cell_type": "markdown",
   "metadata": {
    "collapsed": true
   },
   "source": [
    "**Примечание:** \n",
    "\n",
    "Задание (и все последующие) должны выполнятся в отдельной ветке с название `nickname/lesson#`, гдк `nickname` - ваш ник на GitHub, а `#` - номер занятия. Желательно, чтобы решение лежало поблизости с заданием.\n",
    "\n",
    "Если вы считаете, что выполнили задание, то нужно:\n",
    "1. сделать Pull Request (PR) на вашу ветку\n",
    "2. поставить преподавателя в ревьюверы на PR"
   ]
  },
  {
   "cell_type": "markdown",
   "metadata": {},
   "source": [
    "1. Работа с git.\n",
    "\n",
    "    1.1 Склонировать репозиторий с курсом на ваш компьютер.\n",
    "    1.2 Создать ветку для текущего задания.\n",
    "    1.3 Создайте файл README.md с какой-нибудь информацией.\n",
    "    1.4 Запуште ветку с созданным файлом в репозиторий.\n",
    "    \n",
    "2. Работа c docker\n",
    "    \n",
    "    \n",
    "    2.1 Продолжение следует"
   ]
  },
  {
   "cell_type": "code",
   "execution_count": null,
   "metadata": {},
   "outputs": [],
   "source": []
  }
 ],
 "metadata": {
  "kernelspec": {
   "display_name": "Python 3",
   "language": "python",
   "name": "python3"
  },
  "language_info": {
   "codemirror_mode": {
    "name": "ipython",
    "version": 3
   },
   "file_extension": ".py",
   "mimetype": "text/x-python",
   "name": "python",
   "nbconvert_exporter": "python",
   "pygments_lexer": "ipython3",
   "version": "3.7.3"
  }
 },
 "nbformat": 4,
 "nbformat_minor": 1
}
