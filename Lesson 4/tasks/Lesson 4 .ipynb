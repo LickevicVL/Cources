{
 "cells": [
  {
   "cell_type": "code",
   "execution_count": null,
   "metadata": {},
   "outputs": [],
   "source": [
    " b = {'Sergey1':{'name': 'sergey' , 'surname': 'melekh', 'age': 21, 'sex': 'man'},\n",
    "       'bob1':{'name': 'bob' , 'surname': 'bob', 'age': 21, 'sex': 'women'}}\n",
    "\n",
    "while True:\n",
    "    W = input('What do you want to do? [f]ind a user? Or [a]dd a new one? To exit type [x]: ').lower()\n",
    "\n",
    "    if W == 'f':\n",
    "        user_find = input('Enter the name, surname, name surname or age: ').lower()\n",
    "\n",
    "        a = [{_id: info} for _id, info in  b.items() for key in info if user_find in str(info[key])]\n",
    "        print(a)\n",
    "        if a:\n",
    "            for key in a:\n",
    "                for _id, info in key.items():\n",
    "                    print(f\"User was found: {info['name'].title()}, {info['surname'].title()}, age: {info['age']}, \"\n",
    "                          f\"sex: {info['sex']}\")\n",
    "                else:\n",
    "                    continue\n",
    "        else:\n",
    "            print(\"Can't find. Try again\")\n",
    "\n",
    "    elif W == 'a':\n",
    "        user_name = input('Enter your name: ').lower()\n",
    "        user_surname = input('Enter your surname: ').lower()\n",
    "        user_age = input('Enter your age: ')\n",
    "        while not user_age.isnumeric():\n",
    "            user_age = input('Wrong! Enter a NUMBER (age): ')\n",
    "\n",
    "        user_sex = input('Enter your sex ([m]ale, [f]emale): ').lower()\n",
    "\n",
    "        _id = user_name + user_surname + str(user_age) + user_sex\n",
    "\n",
    "        base[_id] = {}\n",
    "        base[_id]['name'] = user_name\n",
    "        base[_id]['surname'] = user_surname\n",
    "        base[_id]['age'] = int(user_age)\n",
    "        base[_id]['sex'] = user_sex\n",
    "\n",
    "        print(f'User {user_name.title()} {user_surname.title()} of age {user_age} was added')\n",
    "\n",
    "    elif W == 'x':\n",
    "        print('Ok, exit the program....')\n",
    "        break\n",
    "\n",
    "\n",
    "    elif W != 'a' or 'f' or 'x':\n",
    "        print('The command is not defined, please enter [f] or [a] or [x].')\n",
    "        "
   ]
  },
  {
   "cell_type": "code",
   "execution_count": null,
   "metadata": {},
   "outputs": [],
   "source": []
  }
 ],
 "metadata": {
  "kernelspec": {
   "display_name": "Python 3",
   "language": "python",
   "name": "python3"
  },
  "language_info": {
   "codemirror_mode": {
    "name": "ipython",
    "version": 3
   },
   "file_extension": ".py",
   "mimetype": "text/x-python",
   "name": "python",
   "nbconvert_exporter": "python",
   "pygments_lexer": "ipython3",
   "version": "3.7.3"
  }
 },
 "nbformat": 4,
 "nbformat_minor": 2
}
