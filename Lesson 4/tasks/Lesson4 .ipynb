{
 "cells": [
  {
   "cell_type": "code",
   "execution_count": 11,
   "metadata": {},
   "outputs": [
    {
     "name": "stdout",
     "output_type": "stream",
     "text": [
      "Поискsdsd\n",
      "ДобавляемДобавляем\n",
      "Введите имяsadasd\n",
      "Введите Фамилиюasdsad\n",
      "Введите Возрас23\n",
      "Введите Полdsaad\n",
      "[{'name': 'Sergey', 'surname': 'Melekh', 'age': 19, 'sex': 'man'}, {'name': 'Bob', 'surname': 'V', 'age': 21, 'sex': 'women'}, {'name': 'sadasd', 'surname': 'asdsad', 'age': 23, 'sex': 'dsaad'}]\n"
     ]
    }
   ],
   "source": [
    "W = input('Поиск')\n",
    "D = input('Добавляем')         \n",
    "\n",
    "if W == 'Поиск' :\n",
    "    name = input ('Введите имя')\n",
    "    surname = input ('Введите Фамилию')\n",
    "    age = int(input ('Введите Возрас'))\n",
    "    sex = input ('Введите Пол')\n",
    "    a = {'name': 'Sergey' , 'surname': 'Melekh', 'age': 19, 'sex': 'man'}\n",
    "    b = {'name': 'Bob' , 'surname': 'V', 'age': 21, 'sex': 'women'}\n",
    "    c = [a,b]\n",
    "    print(c)\n",
    "    x = [i['name'] for i in c ]\n",
    "    print(x)\n",
    "    for j in x:\n",
    "        if j == name :\n",
    "            N = j\n",
    "    y = [i['surname'] for i in c]\n",
    "    print(y)\n",
    "    for k in y:\n",
    "        if k == surname:\n",
    "            S= k\n",
    "    z = [i['age'] for i in c]\n",
    "    print(z)\n",
    "    for l in z:\n",
    "        if l == age:\n",
    "            A = l\n",
    "    p = [i['sex'] for i in c]\n",
    "    print(p)\n",
    "    for o in p:\n",
    "        if o == sex:\n",
    "             M = o\n",
    "    print(f'name - {N} \\n surname - {S} \\nage - {A}\\nsex - {M}')\n",
    "elif D == 'Добавляем':\n",
    "    name1 = input ('Введите имя')\n",
    "    n1 = name1 \n",
    "    surname1 = input ('Введите Фамилию')\n",
    "    s1 = surname1\n",
    "    age1 = int(input ('Введите Возрас'))\n",
    "    a1 = age1\n",
    "    sex1 = input ('Введите Пол')\n",
    "    e1 = sex1\n",
    "    Q = {'name': n1  , 'surname': s1, 'age': a1, 'sex': e1}\n",
    "    a = {'name': 'Sergey' , 'surname': 'Melekh', 'age': 19, 'sex': 'man'}\n",
    "    b = {'name': 'Bob' , 'surname': 'V', 'age': 21, 'sex': 'women'}\n",
    "    c = [a,b]\n",
    "    c.append(Q)\n",
    "    print(c)\n",
    "    "
   ]
  },
  {
   "cell_type": "code",
   "execution_count": null,
   "metadata": {},
   "outputs": [],
   "source": []
  }
 ],
 "metadata": {
  "kernelspec": {
   "display_name": "Python 3",
   "language": "python",
   "name": "python3"
  },
  "language_info": {
   "codemirror_mode": {
    "name": "ipython",
    "version": 3
   },
   "file_extension": ".py",
   "mimetype": "text/x-python",
   "name": "python",
   "nbconvert_exporter": "python",
   "pygments_lexer": "ipython3",
   "version": "3.7.3"
  }
 },
 "nbformat": 4,
 "nbformat_minor": 2
}
