{
 "cells": [
  {
   "cell_type": "code",
   "execution_count": 108,
   "metadata": {},
   "outputs": [],
   "source": [
    "data_base = {'l m': {'Name: ': 'l', 'Surname: ': 'm', 'Age: ': '20', 'Sex: ': 'male'},\n",
    "             's k': {'Name: ': 's', 'Surname: ': 'k', 'Age: ': '44', 'Sex: ': 'female'},\n",
    "             'serg nerm': {'Name: ': 'serg', 'Surname: ': 'nerm', 'Age: ': '26', 'Sex: ': 'male'}}\n",
    "    "
   ]
  },
  {
   "cell_type": "code",
   "execution_count": 106,
   "metadata": {},
   "outputs": [
    {
     "name": "stdout",
     "output_type": "stream",
     "text": [
      "What do you want?(Enter \"search\" or \"new\") search\n",
      "Who are you looking for? male\n",
      "Name:  l\n",
      "Surname:  m\n",
      "Age:  20\n",
      "Sex:  male\n"
     ]
    }
   ],
   "source": [
    "begin = input('What do you want?(Enter \"search\" or \"new\") ')\n",
    "while begin != \"search\" and begin != \"new\":\n",
    "    begin = input('You are mistaken (wrong command). Please enter \"search\" or \"new\" ')\n",
    "if begin == 'search':\n",
    "    search = input('Who are you looking for? ')\n",
    "    if ' ' in search:\n",
    "        try:\n",
    "            target = [c for i, c in data_base.items() if search in data_base.keys()][0]\n",
    "            for a, b in target.items():\n",
    "                print(a, b)\n",
    "        except IndexError:\n",
    "            print('Not found')\n",
    "    else:\n",
    "        try:\n",
    "            target = [c for i, c in data_base.items() if search in c.values()][0]\n",
    "            for a, b in target.items():\n",
    "                print(a, b)\n",
    "        except IndexError:\n",
    "            print('Not found')\n",
    "elif begin == 'new':\n",
    "    name = input('Name: ')\n",
    "    surname = input('Surname: ')\n",
    "    age = input('Age: ')\n",
    "    sex = input('Sex (male or female): ')\n",
    "    while sex != 'male' and sex != 'female':\n",
    "        sex = input('You are mistaken. Print male or female: ')\n",
    "    data_base.update([(name + ' ' + surname, {'Name: ': name, 'Surname: ': surname, 'Age: ': age, 'Sex: ': sex})])\n",
    "    print('Data base update')\n",
    "\n"
   ]
  },
  {
   "cell_type": "code",
   "execution_count": 109,
   "metadata": {},
   "outputs": [
    {
     "data": {
      "text/plain": [
       "{'l m': {'Name: ': 'l', 'Surname: ': 'm', 'Age: ': '20', 'Sex: ': 'male'},\n",
       " 's k': {'Name: ': 's', 'Surname: ': 'k', 'Age: ': '44', 'Sex: ': 'female'},\n",
       " 'serg nerm': {'Name: ': 'serg',\n",
       "  'Surname: ': 'nerm',\n",
       "  'Age: ': '26',\n",
       "  'Sex: ': 'male'}}"
      ]
     },
     "execution_count": 109,
     "metadata": {},
     "output_type": "execute_result"
    }
   ],
   "source": [
    "data_base"
   ]
  }
 ],
 "metadata": {
  "kernelspec": {
   "display_name": "Python 3",
   "language": "python",
   "name": "python3"
  },
  "language_info": {
   "codemirror_mode": {
    "name": "ipython",
    "version": 3
   },
   "file_extension": ".py",
   "mimetype": "text/x-python",
   "name": "python",
   "nbconvert_exporter": "python",
   "pygments_lexer": "ipython3",
   "version": "3.7.3"
  }
 },
 "nbformat": 4,
 "nbformat_minor": 2
}
