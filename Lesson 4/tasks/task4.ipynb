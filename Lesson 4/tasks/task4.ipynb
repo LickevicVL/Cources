{
 "cells": [
  {
   "cell_type": "code",
   "execution_count": 176,
   "metadata": {},
   "outputs": [],
   "source": [
    "my_database = {'Anatoly Metelsky': {'name': 'Anatoly', 'surname': 'Metelsky', 'age': '35', 'sex': 'male'},\n",
    "              'Anna Zapolnaya': {'name': 'Anna', 'surname': 'Zapolnaya', 'age': '27', 'sex': 'female'},\n",
    "              'Sergey Jabb': {'name': 'Sergey', 'surname': 'Jabb', 'age': '29', 'sex': 'male'}}"
   ]
  },
  {
   "cell_type": "code",
   "execution_count": 177,
   "metadata": {},
   "outputs": [],
   "source": [
    "def start_script():\n",
    "    answer = input('What do you whant to do? Print \"search user\" or \"add new\" to countine: ')\n",
    "    if answer == \"search user\":\n",
    "        search_user()\n",
    "    elif answer == \"add new\":\n",
    "        add_user()\n",
    "    else:\n",
    "        print('Wrong answer, please enter correct answer')\n",
    "        start_script()"
   ]
  },
  {
   "cell_type": "code",
   "execution_count": 178,
   "metadata": {},
   "outputs": [],
   "source": [
    "def search_user():\n",
    "    a = input('Enter name and/or surname, age or sex to serch users: ')\n",
    "    b = [key for key in my_database.values()]\n",
    "\n",
    "    for b in b:\n",
    "        if a in my_database.keys():\n",
    "            print(f\"      Name: {my_database[a]['name']}   Surname: {my_database[a]['surname']}   Age: {my_database[a]['age']}   Sex: {my_database[a]['sex']}\")\n",
    "            \n",
    "        if a in b.values():\n",
    "            print(f\"      Name: {b['name']}   Surname: {b['surname']}   Age: {b['age']}   Sex: {b['sex']}\")"
   ]
  },
  {
   "cell_type": "code",
   "execution_count": 179,
   "metadata": {},
   "outputs": [],
   "source": [
    "def add_user():\n",
    "    name = input('Name: ')\n",
    "    surname = input('Surname: ')\n",
    "    age = input('Age: ')\n",
    "    sex = input('Sex: ')\n",
    "    \n",
    "    new_user = {name + ' ' + surname: {'name': name, 'surname': surname, 'age': age, 'sex': sex}}\n",
    "    my_database.update(new_user)\n",
    "    \n",
    "    print('\\n User added')"
   ]
  },
  {
   "cell_type": "code",
   "execution_count": 180,
   "metadata": {},
   "outputs": [
    {
     "name": "stdout",
     "output_type": "stream",
     "text": [
      "What do you whant to do? Print \"search user\" or \"add new\" to countine: add new\n",
      "Name: Anna\n",
      "Surname: Metel\n",
      "Age: 32\n",
      "Sex: female\n",
      "\n",
      " User added\n"
     ]
    }
   ],
   "source": [
    "start_script()"
   ]
  },
  {
   "cell_type": "code",
   "execution_count": 181,
   "metadata": {},
   "outputs": [
    {
     "name": "stdout",
     "output_type": "stream",
     "text": [
      "What do you whant to do? Print \"search user\" or \"add new\" to countine: search user\n",
      "Enter name and/or surname, age or sex to serch users: female\n",
      "      Name: Anna   Surname: Zapolnaya   Age: 27   Sex: female\n",
      "      Name: Anna   Surname: Metel   Age: 32   Sex: female\n"
     ]
    }
   ],
   "source": [
    "start_script()"
   ]
  },
  {
   "cell_type": "code",
   "execution_count": null,
   "metadata": {},
   "outputs": [],
   "source": []
  }
 ],
 "metadata": {
  "kernelspec": {
   "display_name": "Python 3",
   "language": "python",
   "name": "python3"
  },
  "language_info": {
   "codemirror_mode": {
    "name": "ipython",
    "version": 3
   },
   "file_extension": ".py",
   "mimetype": "text/x-python",
   "name": "python",
   "nbconvert_exporter": "python",
   "pygments_lexer": "ipython3",
   "version": "3.7.3"
  }
 },
 "nbformat": 4,
 "nbformat_minor": 2
}
