{
 "cells": [
  {
   "cell_type": "code",
   "execution_count": 1,
   "metadata": {},
   "outputs": [
    {
     "name": "stdout",
     "output_type": "stream",
     "text": [
      "Введите a: 6\n",
      "Введите b: -7\n",
      "Введите c: 1\n",
      "6*x^2 + -7*x + 1 = 0\n",
      "D = 25\n",
      "x1 = 7.416666666666667\n",
      "x2 = 6.583333333333333\n"
     ]
    }
   ],
   "source": [
    "import math\n",
    "\n",
    "def Discriminant(a, b, c):\n",
    "    return b**2 - 4 * a * c\n",
    "\n",
    "a = int(input('Введите a: '))\n",
    "b = int(input('Введите b: '))\n",
    "c = int(input('Введите c: '))\n",
    "print('%s*x^2 + %s*x + %s = 0' % (a, b, c))\n",
    "\n",
    "D = Discriminant(a, b, c)\n",
    "print('D =', D)\n",
    "\n",
    "if D > 0:\n",
    "    print('x1 =', (-b + math.sqrt(D)/(2 * a)))\n",
    "    print('x2 =', (-b - math.sqrt(D)/(2 * a)))\n",
    "elif D == 0:\n",
    "    print('x =', (-b/(2*a)))\n",
    "elif D < 0:\n",
    "    print('Нет действительных корней')"
   ]
  },
  {
   "cell_type": "code",
   "execution_count": null,
   "metadata": {},
   "outputs": [],
   "source": [
    "str = input('Str: ')\n",
    "\n",
    "strold = input('Old str: ')\n",
    "strnew = input('New str: ')\n",
    "\n",
    "while str.find(strold) > 0:\n",
    "    "
   ]
  },
  {
   "cell_type": "code",
   "execution_count": null,
   "metadata": {},
   "outputs": [],
   "source": [
    "def summa(a):\n",
    "    a = a.split()\n",
    "    b = []\n",
    "    for i in a:\n",
    "        b.append(int(i))\n",
    "    return sum(b)\n",
    "s = 0\n",
    "while 1:\n",
    "    a = input()\n",
    "    if a == '_': break\n",
    "    s += summa(a)\n",
    "    print('Summa:',s)"
   ]
  }
 ],
 "metadata": {
  "kernelspec": {
   "display_name": "Python 3",
   "language": "python",
   "name": "python3"
  },
  "language_info": {
   "codemirror_mode": {
    "name": "ipython",
    "version": 3
   },
   "file_extension": ".py",
   "mimetype": "text/x-python",
   "name": "python",
   "nbconvert_exporter": "python",
   "pygments_lexer": "ipython3",
   "version": "3.7.3"
  }
 },
 "nbformat": 4,
 "nbformat_minor": 2
}
