{
 "cells": [
  {
   "cell_type": "markdown",
   "metadata": {},
   "source": [
    "# Задание №1"
   ]
  },
  {
   "cell_type": "code",
   "execution_count": 138,
   "metadata": {},
   "outputs": [
    {
     "name": "stdout",
     "output_type": "stream",
     "text": [
      "a =  2 b =  1\n"
     ]
    }
   ],
   "source": [
    "a = 1\n",
    "b = 2\n",
    "a, b = b, a\n",
    "print('a = ', a, 'b = ',b)\n",
    "\n"
   ]
  },
  {
   "cell_type": "markdown",
   "metadata": {},
   "source": [
    "# Задание №2 "
   ]
  },
  {
   "cell_type": "code",
   "execution_count": 134,
   "metadata": {},
   "outputs": [],
   "source": [
    "data_base = {'l m': {'Name: ': 'l', 'Surname: ': 'm', 'Age: ': '20', 'Sex: ': 'male'},\n",
    "             's k': {'Name: ': 's', 'Surname: ': 'k', 'Age: ': '44', 'Sex: ': 'female'},\n",
    "             'serg nerm': {'Name: ': 'serg', 'Surname: ': 'nerm', 'Age: ': '26', 'Sex: ': 'male'}}"
   ]
  },
  {
   "cell_type": "code",
   "execution_count": 132,
   "metadata": {},
   "outputs": [],
   "source": [
    "def save():\n",
    "    name = input('Name: ')\n",
    "    surname = input('Surname: ')\n",
    "    age = input('Age: ')\n",
    "    sex = input('Sex (male or female): ')\n",
    "    while sex != 'male' and sex != 'female':\n",
    "        sex = input('You are mistaken. Print male or female: ')\n",
    "    data_base.update([(name + ' ' + surname, {'Name: ': name, 'Surname: ': surname, 'Age: ': age, 'Sex: ': sex})])\n",
    "    print('Data base update')\n",
    "\n",
    "    \n",
    "def search():\n",
    "    search_param = {'1': first_param, '2': second_param}\n",
    "    param = 0\n",
    "    while not param in search_param:\n",
    "        param = input('Choose parameters:\\n1. Name, Surname, Age(1 of 3)\\n2. Name + Surname\\n')\n",
    "    search_param.get(param)()\n",
    "    \n",
    "\n",
    "def first_param():\n",
    "    search_name = input('Who are you looking for? Enter with \" \"\\n').split(' ')\n",
    "    for person in search_name:\n",
    "        try:\n",
    "            target = [c for i, c in data_base.items() if person in c.values()][0]\n",
    "            for a, b in target.items():\n",
    "                print(a, b,)\n",
    "        except IndexError:\n",
    "            print(person, 'not found')\n",
    "            \n",
    "            \n",
    "def second_param():\n",
    "    search_name = input('Who are you looking for? Split different users by \", \"\\n').split(', ')\n",
    "    for person in search_name:\n",
    "        target = data_base.get(person)\n",
    "        try:\n",
    "            for a, b in target.items():\n",
    "                print(a, b)\n",
    "        except AttributeError:\n",
    "            print(person, 'not found') "
   ]
  },
  {
   "cell_type": "code",
   "execution_count": 133,
   "metadata": {},
   "outputs": [
    {
     "name": "stdout",
     "output_type": "stream",
     "text": [
      "What do you want?(Enter \"search\" or \"save\")\n",
      "search\n",
      "Choose parameters:\n",
      "1. Name, Surname, Age(1 of 3)\n",
      "2. Name + Surname\n",
      "1\n",
      "Who are you looking for? Enter with \" \"\n",
      "s s v\n",
      "Name:  s\n",
      "Surname:  k\n",
      "Age:  44\n",
      "Sex:  female\n",
      "Name:  s\n",
      "Surname:  k\n",
      "Age:  44\n",
      "Sex:  female\n",
      "Name:  v\n",
      "Surname:  c\n",
      "Age:  12\n",
      "Sex:  female\n"
     ]
    }
   ],
   "source": [
    "command_input = ''\n",
    "user_command = {'save': save, 'search': search}\n",
    "while not command_input in user_command.keys():\n",
    "    command_input = input('What do you want?(Enter \"search\" or \"save\")\\n')\n",
    "user_command.get(command_input)()\n"
   ]
  },
  {
   "cell_type": "markdown",
   "metadata": {},
   "source": [
    "# Задание №3"
   ]
  },
  {
   "cell_type": "code",
   "execution_count": 147,
   "metadata": {},
   "outputs": [
    {
     "name": "stdout",
     "output_type": "stream",
     "text": [
      "Enter number (num >= 1000)\n",
      "16\n",
      "sqrt быстрее на  2.3365020751953125e-05\n"
     ]
    }
   ],
   "source": [
    "import time\n",
    "import math\n",
    "\n",
    "\n",
    "def sqr(a, n):\n",
    "    a = a ** (1 / n)\n",
    "    return a\n",
    "\n",
    "value = int(input('Enter number (num >= 1000)\\n'))\n",
    "a = time.time()\n",
    "sqr(value, 2)\n",
    "b = time.time()\n",
    "sqr_time = b - a\n",
    "c = time.time()\n",
    "math.sqrt(value)\n",
    "d = time.time()\n",
    "sqrt_time = d - c\n",
    "\n",
    "if sqr_time > sqrt_time:\n",
    "    print('sqrt быстрее на ', sqr_time - sqrt_time)\n",
    "else:\n",
    "    print('sqr быстрее на ', sqrt_time - sqr_time)"
   ]
  },
  {
   "cell_type": "code",
   "execution_count": null,
   "metadata": {},
   "outputs": [],
   "source": []
  }
 ],
 "metadata": {
  "kernelspec": {
   "display_name": "Python 3",
   "language": "python",
   "name": "python3"
  },
  "language_info": {
   "codemirror_mode": {
    "name": "ipython",
    "version": 3
   },
   "file_extension": ".py",
   "mimetype": "text/x-python",
   "name": "python",
   "nbconvert_exporter": "python",
   "pygments_lexer": "ipython3",
   "version": "3.7.3"
  }
 },
 "nbformat": 4,
 "nbformat_minor": 2
}
