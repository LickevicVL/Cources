{
 "cells": [
  {
   "cell_type": "code",
   "execution_count": 7,
   "metadata": {},
   "outputs": [
    {
     "name": "stdout",
     "output_type": "stream",
     "text": [
      "Firts value: kek\n",
      "Second value: lol\n",
      "lol kek\n"
     ]
    }
   ],
   "source": [
    "a = input('Firts value: ')\n",
    "b = input('Second value: ')\n",
    "a,b = b,a\n",
    "print(a,b)"
   ]
  },
  {
   "cell_type": "code",
   "execution_count": 14,
   "metadata": {},
   "outputs": [
    {
     "name": "stdout",
     "output_type": "stream",
     "text": [
      "Enter the number from which the root is extracted: 4\n",
      "Введите степень: 2\n",
      "2.0\n"
     ]
    }
   ],
   "source": [
    "a = float(input('Enter the number from which the root is extracted: '))\n",
    "n = int(input('Введите степень: ')) \n",
    "x = a**(1/n)\n",
    "print(x)"
   ]
  },
  {
   "cell_type": "code",
   "execution_count": 15,
   "metadata": {},
   "outputs": [
    {
     "name": "stdout",
     "output_type": "stream",
     "text": [
      "Enter the number from which the root is extracted: 4\n",
      "2.0\n"
     ]
    }
   ],
   "source": [
    "a = float(input('Enter the number from which the root is extracted: '))\n",
    "from math import sqrt\n",
    "x = sqrt (a)\n",
    "print(x)"
   ]
  }
 ],
 "metadata": {
  "kernelspec": {
   "display_name": "Python 3",
   "language": "python",
   "name": "python3"
  },
  "language_info": {
   "codemirror_mode": {
    "name": "ipython",
    "version": 3
   },
   "file_extension": ".py",
   "mimetype": "text/x-python",
   "name": "python",
   "nbconvert_exporter": "python",
   "pygments_lexer": "ipython3",
   "version": "3.7.3"
  }
 },
 "nbformat": 4,
 "nbformat_minor": 2
}
