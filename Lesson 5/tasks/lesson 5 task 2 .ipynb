{
 "cells": [
  {
   "cell_type": "code",
   "execution_count": 18,
   "metadata": {},
   "outputs": [],
   "source": [
    "def save(**kwargs):\n",
    "    a = {'name': 'Sergey' , 'surname': 'Melekh', 'age': 19, 'sex': 'man'}\n",
    "    b = {'name': 'Bob' , 'surname': 'V', 'age': 21, 'sex': 'women'}\n",
    "    c = [a,b]\n",
    "    c.append(kwargs)\n",
    "    print(c)"
   ]
  },
  {
   "cell_type": "code",
   "execution_count": 19,
   "metadata": {},
   "outputs": [
    {
     "name": "stdout",
     "output_type": "stream",
     "text": [
      "[{'name': 'Sergey', 'surname': 'Melekh', 'age': 19, 'sex': 'man'}, {'name': 'Bob', 'surname': 'V', 'age': 21, 'sex': 'women'}, {'key': 'sdad'}]\n"
     ]
    }
   ],
   "source": [
    "save(key = 'sdad')"
   ]
  },
  {
   "cell_type": "code",
   "execution_count": 32,
   "metadata": {},
   "outputs": [],
   "source": [
    "def search(**kwargs):\n",
    "    \n",
    "    a = {'name': 'Sergey' , 'surname': 'Melekh', 'age': 19, 'sex': 'man'}\n",
    "    b = {'name': 'Bob' , 'surname': 'V', 'age': 21, 'sex': 'women'}\n",
    "    c = [a,b]\n",
    "    \n",
    "    x = [kwargs['name'] for i in c]\n",
    "    print(x)\n",
    "    for j in x:\n",
    "        if j == kwargs['name'] :\n",
    "            N = j\n",
    "    y = [kwargs['surname'] for i in c]\n",
    "    print(y)\n",
    "    for k in y:\n",
    "        if k == kwargs['surname']:\n",
    "            S= k\n",
    "    z = [kwargs['age'] for i in c]\n",
    "    print(z)\n",
    "    for l in z:\n",
    "        if l == kwargs['age']:\n",
    "            A = l\n",
    "    p = [kwargs['sex'] for i in c]\n",
    "    print(p)\n",
    "    for o in p:\n",
    "        if o == kwargs['sex']:\n",
    "             M = o\n",
    "    print(f'Пользователь есть в БД \\n name - {N} \\n surname - {S} \\nage - {A}\\nsex - {M}')\n",
    "    \n",
    "    "
   ]
  },
  {
   "cell_type": "code",
   "execution_count": 33,
   "metadata": {},
   "outputs": [
    {
     "name": "stdout",
     "output_type": "stream",
     "text": [
      "['Sergey', 'Sergey']\n",
      "['Melekh', 'Melekh']\n",
      "[19, 19]\n",
      "['man', 'man']\n",
      "Пользователь есть в БД \n",
      " name - Sergey \n",
      " surname - Melekh \n",
      "age - 19\n",
      "sex - man\n"
     ]
    }
   ],
   "source": [
    "search(name='Sergey', surname='Melekh', age=19, sex='man')"
   ]
  },
  {
   "cell_type": "code",
   "execution_count": null,
   "metadata": {},
   "outputs": [],
   "source": []
  }
 ],
 "metadata": {
  "kernelspec": {
   "display_name": "Python 3",
   "language": "python",
   "name": "python3"
  },
  "language_info": {
   "codemirror_mode": {
    "name": "ipython",
    "version": 3
   },
   "file_extension": ".py",
   "mimetype": "text/x-python",
   "name": "python",
   "nbconvert_exporter": "python",
   "pygments_lexer": "ipython3",
   "version": "3.7.3"
  }
 },
 "nbformat": 4,
 "nbformat_minor": 2
}
