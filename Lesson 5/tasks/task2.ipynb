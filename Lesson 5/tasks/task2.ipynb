{
 "cells": [
  {
   "cell_type": "code",
   "execution_count": 73,
   "metadata": {},
   "outputs": [],
   "source": [
    "my_database = {'Anatoly Metelsky': {'name': 'Anatoly', 'surname': 'Metelsky', 'age': '35', 'sex': 'male'},\n",
    "              'Anna Zapolnaya': {'name': 'Anna', 'surname': 'Zapolnaya', 'age': '27', 'sex': 'female'},\n",
    "              'Sergey Jabb': {'name': 'Sergey', 'surname': 'Jabb', 'age': '29', 'sex': 'male'}}"
   ]
  },
  {
   "cell_type": "code",
   "execution_count": 74,
   "metadata": {},
   "outputs": [],
   "source": [
    "def start_script():\n",
    "    while 1:\n",
    "        answer = input('What do you whant to do? Print \"search\" or \"save\" to countine: ')\n",
    "        \n",
    "        if answer == \"search\":\n",
    "            hts = input('Choose search parameter: name, surname, age, sex, name+surname: ')\n",
    "            if hts == 'name':\n",
    "                sp_name = input('Enter name: ')\n",
    "                search(name = sp_name)\n",
    "            elif hts == 'surname':\n",
    "                sp_surname = input('Enter surname: ')\n",
    "                search(surname = sp_surname)\n",
    "            elif hts == 'age':\n",
    "                sp_age = input('Enter age: ')\n",
    "                search(age = sp_age)\n",
    "            elif hts == 'sex':\n",
    "                sp_sex = input('Enter sex: ')\n",
    "                search(sex = sp_sex)\n",
    "            elif hts == 'name+surname':\n",
    "                sp_ns = input('Enter name+surname: ')\n",
    "                search(ns = sp_ns)\n",
    "            else:\n",
    "                print('Not found')\n",
    "            \n",
    "            coe = input(f'Want to do something else? Print \"yes\" to countine or \"no\" to end: ')\n",
    "            if coe == 'yes':\n",
    "                pass\n",
    "            elif coe == 'no':\n",
    "                break\n",
    "                \n",
    "        elif answer == \"save\":\n",
    "            save()\n",
    "            coe1 = input(f'Want to do something else? Print \"yes\" to countine or \"no\" to end: ')\n",
    "            if coe1 == 'yes':\n",
    "                pass\n",
    "            elif coe1 == 'no':\n",
    "                break\n",
    "                \n",
    "        else:\n",
    "            print('Wrong answer, please enter correct answer')"
   ]
  },
  {
   "cell_type": "code",
   "execution_count": 75,
   "metadata": {},
   "outputs": [],
   "source": [
    "def search(**kwargs):\n",
    "    a = [i for i in kwargs.values()][0]\n",
    "    \n",
    "    for bb in my_database.values():   \n",
    "        if a in bb.values():\n",
    "            print(f\"      Name: {bb['name']}   Surname: {bb['surname']}   Age: {bb['age']}   Sex: {bb['sex']}\")\n",
    "        \n",
    "    if a in my_database.keys():\n",
    "        print(f\"      Name: {my_database[a]['name']}   Surname: {my_database[a]['surname']}   Age: {my_database[a]['age']}   Sex: {my_database[a]['sex']}\")"
   ]
  },
  {
   "cell_type": "code",
   "execution_count": 76,
   "metadata": {},
   "outputs": [],
   "source": [
    "def save():\n",
    "    name = input('Name: ')\n",
    "    surname = input('Surname: ')\n",
    "    age = input('Age: ')\n",
    "    sex = input('Sex: ')\n",
    "    \n",
    "    new_user = {name + ' ' + surname: {'name': name, 'surname': surname, 'age': age, 'sex': sex}}\n",
    "    my_database.update(new_user)\n",
    "    \n",
    "    print('\\n User added')"
   ]
  },
  {
   "cell_type": "code",
   "execution_count": null,
   "metadata": {},
   "outputs": [
    {
     "name": "stdout",
     "output_type": "stream",
     "text": [
      "What do you whant to do? Print \"search\" or \"save\" to countine: \n",
      "Wrong answer, please enter correct answer\n",
      "What do you whant to do? Print \"search\" or \"save\" to countine: search\n",
      "Choose search parameter: name, surname, age, sex, name+surname: name+surname\n",
      "Enter name+surname: Anatoly Metelsky\n",
      "      Name: Anatoly   Surname: Metelsky   Age: 35   Sex: male\n"
     ]
    }
   ],
   "source": [
    "start_script()"
   ]
  },
  {
   "cell_type": "code",
   "execution_count": null,
   "metadata": {},
   "outputs": [],
   "source": []
  }
 ],
 "metadata": {
  "kernelspec": {
   "display_name": "Python 3",
   "language": "python",
   "name": "python3"
  },
  "language_info": {
   "codemirror_mode": {
    "name": "ipython",
    "version": 3
   },
   "file_extension": ".py",
   "mimetype": "text/x-python",
   "name": "python",
   "nbconvert_exporter": "python",
   "pygments_lexer": "ipython3",
   "version": "3.7.3"
  }
 },
 "nbformat": 4,
 "nbformat_minor": 2
}
