{
 "cells": [
  {
   "cell_type": "code",
   "execution_count": 25,
   "metadata": {},
   "outputs": [
    {
     "name": "stdout",
     "output_type": "stream",
     "text": [
      "sqrt faster on 9.298324584960938e-06\n"
     ]
    }
   ],
   "source": [
    "from time import time\n",
    "from math import sqrt\n",
    "\n",
    "def sqr(a, n):\n",
    "    x = a**(1/n)\n",
    "    return x\n",
    "\n",
    "t1 = time()\n",
    "sqr(9, 2)\n",
    "t2 = time()\n",
    "t_sqr = t2 - t1\n",
    "\n",
    "t3 = time()\n",
    "sqrt(9)\n",
    "t4 = time()\n",
    "t_sqrt = t4 - t3\n",
    "\n",
    "if t_sqr > t_sqrt:\n",
    "    print (f'sqrt faster on {t_sqr - t_sqrt}')\n",
    "elif t_sqr < t_sqrt:\n",
    "    print (f'sqr faster on {t_sqrt - t_sqr}')"
   ]
  },
  {
   "cell_type": "code",
   "execution_count": null,
   "metadata": {},
   "outputs": [],
   "source": []
  }
 ],
 "metadata": {
  "kernelspec": {
   "display_name": "Python 3",
   "language": "python",
   "name": "python3"
  },
  "language_info": {
   "codemirror_mode": {
    "name": "ipython",
    "version": 3
   },
   "file_extension": ".py",
   "mimetype": "text/x-python",
   "name": "python",
   "nbconvert_exporter": "python",
   "pygments_lexer": "ipython3",
   "version": "3.7.3"
  }
 },
 "nbformat": 4,
 "nbformat_minor": 2
}
