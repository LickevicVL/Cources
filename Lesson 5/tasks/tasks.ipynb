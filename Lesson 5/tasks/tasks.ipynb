{
 "cells": [
  {
   "cell_type": "markdown",
   "metadata": {},
   "source": [
    "# 1. Свап переменных\n",
    "\n",
    "Поменяйте местами значения двух переменных в одну строку."
   ]
  },
  {
   "cell_type": "markdown",
   "metadata": {},
   "source": [
    "# 2. Функции для БД\n",
    "\n",
    "Реализуйте две функции бля БД из прошлого урока:\n",
    "1. функция *save*: сохраняет в БД нового пользователя\n",
    "2. функция *search*: поиск пользователя(-ей) по заданным параметрам (необходимо использовать `**kwargs`)"
   ]
  },
  {
   "cell_type": "markdown",
   "metadata": {},
   "source": [
    "# 3. Кто быстрее\n",
    "\n",
    "Напишите функцию `sqr`, которая находит корень **n**-ой степени числа (*подсказка:* для нахождения корня возведите число в степень **1/n**).\n",
    "Используя функцию `time` из модуля `time` вычислите, какая функция находит квадратный корень из числа: `sqr` или `sqrt` из модуля `math`."
   ]
  }
 ],
 "metadata": {
  "kernelspec": {
   "display_name": "Python 3",
   "language": "python",
   "name": "python3"
  },
  "language_info": {
   "codemirror_mode": {
    "name": "ipython",
    "version": 3
   },
   "file_extension": ".py",
   "mimetype": "text/x-python",
   "name": "python",
   "nbconvert_exporter": "python",
   "pygments_lexer": "ipython3",
   "version": "3.7.3"
  }
 },
 "nbformat": 4,
 "nbformat_minor": 2
}
