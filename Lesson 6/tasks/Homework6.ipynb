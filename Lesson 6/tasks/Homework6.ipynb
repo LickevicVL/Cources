{
 "cells": [
  {
   "cell_type": "code",
   "execution_count": 5,
   "metadata": {},
   "outputs": [
    {
     "name": "stdout",
     "output_type": "stream",
     "text": [
      "IP: ['127', '216', '165', '139']\n",
      "Mask: ['255', '255', '192', '0']\n",
      "IP net address: 127.216.128.0\n"
     ]
    }
   ],
   "source": [
    "def net(ip, mask):\n",
    "\n",
    "    ip = ip.split('.')\n",
    "    mask = mask.split('.')\n",
    "\n",
    "    print(f'IP: {ip}')\n",
    "    print(f'Mask: {mask}')\n",
    "\n",
    "    ip_net = []\n",
    "    \n",
    "    for i, j in zip(ip, mask):\n",
    "        if j == '255':\n",
    "            ip_net.append(i)\n",
    "        elif j == '0':\n",
    "            ip_net.append('0')\n",
    "        else:\n",
    "            i = int(i)\n",
    "            j = int(j)\n",
    "            a = 255 - j + 1\n",
    "            b = (i//a)*a\n",
    "            ip_net.append(str(b))\n",
    "    ip_user = '.'.join(ip_net)\n",
    "    print(f'IP net address: {ip_user}')\n",
    "    \n",
    "net('127.216.165.139', '255.255.192.0')"
   ]
  }
 ],
 "metadata": {
  "kernelspec": {
   "display_name": "Python 3",
   "language": "python",
   "name": "python3"
  },
  "language_info": {
   "codemirror_mode": {
    "name": "ipython",
    "version": 3
   },
   "file_extension": ".py",
   "mimetype": "text/x-python",
   "name": "python",
   "nbconvert_exporter": "python",
   "pygments_lexer": "ipython3",
   "version": "3.7.3"
  }
 },
 "nbformat": 4,
 "nbformat_minor": 2
}
