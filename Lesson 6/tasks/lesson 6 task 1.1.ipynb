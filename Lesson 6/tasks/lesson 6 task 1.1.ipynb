{
 "cells": [
  {
   "cell_type": "code",
   "execution_count": 1,
   "metadata": {},
   "outputs": [],
   "source": [
    "def ip_net_calc(ip, mask):\n",
    "\n",
    "    ip1= ip.split('.')\n",
    "    mask1= mask.split('.')\n",
    "\n",
    "    print(f'IP адрес: {ip1}')\n",
    "    print(f'Маска подсети: {mask1}')\n",
    "    \n",
    "    ips = []\n",
    "    c =  zip(ip1,mask1)\n",
    "    y = mask1[1]\n",
    "    y = int(y)\n",
    "    print(y)\n",
    "    for i,j in zip(ip1, mask1):\n",
    "        if j == '255':\n",
    "            ips.append(i)\n",
    "        elif  j == '0':\n",
    "                ips.append('0')\n",
    "        else:\n",
    "            i = int(i)\n",
    "            j = int(j)\n",
    "            a = y - j \n",
    "            d = a + 1\n",
    "            k = i // d \n",
    "            v = k * d \n",
    "            print(v)\n",
    "            ips.append(str(v))\n",
    "    ip_net_user = '.'.join(ips)\n",
    "    print(f'IP адрес сети: {ip_net_user}')\n"
   ]
  },
  {
   "cell_type": "code",
   "execution_count": null,
   "metadata": {},
   "outputs": [],
   "source": []
  },
  {
   "cell_type": "code",
   "execution_count": 26,
   "metadata": {},
   "outputs": [
    {
     "name": "stdout",
     "output_type": "stream",
     "text": [
      "IP адрес: ['192', '168', '110', '52']\n",
      "Маска подсети: ['255', '255', '192', '0']\n",
      "255\n",
      "64\n",
      "IP адрес сети: 192.168.64.0\n"
     ]
    }
   ],
   "source": [
    "ip_net_calc( '192.168.110.52' , '255.255.192.0')"
   ]
  },
  {
   "cell_type": "code",
   "execution_count": null,
   "metadata": {},
   "outputs": [],
   "source": []
  }
 ],
 "metadata": {
  "kernelspec": {
   "display_name": "Python 3",
   "language": "python",
   "name": "python3"
  },
  "language_info": {
   "codemirror_mode": {
    "name": "ipython",
    "version": 3
   },
   "file_extension": ".py",
   "mimetype": "text/x-python",
   "name": "python",
   "nbconvert_exporter": "python",
   "pygments_lexer": "ipython3",
   "version": "3.7.3"
  }
 },
 "nbformat": 4,
 "nbformat_minor": 2
}
