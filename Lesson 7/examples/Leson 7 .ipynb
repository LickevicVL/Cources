{
 "cells": [
  {
   "cell_type": "code",
   "execution_count": 25,
   "metadata": {},
   "outputs": [
    {
     "name": "stdout",
     "output_type": "stream",
     "text": [
      "{}\n"
     ]
    }
   ],
   "source": [
    "with open('names.txt') as file:\n",
    "    names = file.read().replace('\"\"', '').split(',')\n",
    "    \n",
    "    \n",
    " \n",
    "result = dict()\n",
    "for name in names:\n",
    "    complex_names = list()\n",
    "    for c_name in names:\n",
    "        if name == c_name:\n",
    "            continue\n",
    "        if name in c_name:\n",
    "             complex_names.append(c_name)\n",
    "    if complex_names:\n",
    "        result[name] = complex_names\n",
    "print(result)\n",
    "    "
   ]
  },
  {
   "cell_type": "code",
   "execution_count": null,
   "metadata": {},
   "outputs": [],
   "source": []
  }
 ],
 "metadata": {
  "kernelspec": {
   "display_name": "Python 3",
   "language": "python",
   "name": "python3"
  },
  "language_info": {
   "codemirror_mode": {
    "name": "ipython",
    "version": 3
   },
   "file_extension": ".py",
   "mimetype": "text/x-python",
   "name": "python",
   "nbconvert_exporter": "python",
   "pygments_lexer": "ipython3",
   "version": "3.7.3"
  }
 },
 "nbformat": 4,
 "nbformat_minor": 2
}
