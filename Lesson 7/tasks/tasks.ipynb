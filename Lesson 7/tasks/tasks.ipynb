{
 "cells": [
  {
   "cell_type": "markdown",
   "metadata": {},
   "source": [
    "# 1. Работаем с фалами\n",
    "\n",
    "Необходимо высчитать все просты слова из примера №2 и отправить их почтой с условием, что:\n",
    "\n",
    "1. Конфигурационные данные (`HOST`, `PORT`) для SMTP сервера должны лежать в файле `config.yaml`.\n",
    "2. Результат должен отправляться как JSON строка."
   ]
  }
 ],
 "metadata": {
  "kernelspec": {
   "display_name": "Python 3",
   "language": "python",
   "name": "python3"
  },
  "language_info": {
   "codemirror_mode": {
    "name": "ipython",
    "version": 3
   },
   "file_extension": ".py",
   "mimetype": "text/x-python",
   "name": "python",
   "nbconvert_exporter": "python",
   "pygments_lexer": "ipython3",
   "version": "3.7.3"
  }
 },
 "nbformat": 4,
 "nbformat_minor": 2
}
