{
 "cells": [
  {
   "cell_type": "code",
   "execution_count": 2,
   "metadata": {},
   "outputs": [
    {
     "name": "stdout",
     "output_type": "stream",
     "text": [
      "109216\n",
      "[('the', 5811), ('and', 3088), ('i', 3038), ('to', 2823), ('of', 2778), ('a', 2701), ('in', 1824), ('that', 1767), ('it', 1749), ('you', 1571), ('he', 1486), ('was', 1411), ('his', 1159), ('is', 1150), ('my', 1007), ('have', 929), ('with', 877), ('as', 863), ('had', 830), ('at', 784), ('which', 778), ('for', 752), ('not', 658), ('but', 656), ('be', 646), ('me', 635), ('we', 539), ('this', 535), ('there', 517), ('from', 512), ('said', 486), ('holmes', 467), ('upon', 467), ('so', 450), ('him', 434), ('her', 430), ('she', 426), ('all', 410), ('your', 405), ('no', 401), ('very', 401), ('been', 393), ('on', 391), ('what', 391), ('s', 382), ('one', 378), ('by', 371), ('then', 366), ('are', 355), ('were', 349), ('an', 338), ('would', 327), ('out', 323), ('when', 323), ('man', 305), ('up', 305), ('do', 302), ('could', 287), ('has', 286), ('if', 280), ('or', 276), ('into', 275), ('mr', 275), ('who', 274), ('will', 270), ('little', 269), ('some', 245), ('now', 234), ('see', 232), ('down', 230), ('may', 212), ('our', 212), ('should', 212), ('they', 202), ('well', 201), ('can', 189), ('am', 185), ('us', 184), ('over', 183), ('about', 176), ('more', 175), ('think', 174), ('must', 171), ('know', 171), ('room', 171), ('shall', 171), ('before', 166), ('any', 165), ('only', 163), ('come', 162), ('other', 161), ('than', 160), ('did', 153), ('time', 151), ('two', 148), ('them', 147), ('came', 146), ('how', 145), ('door', 144), ('here', 140)]\n"
     ]
    }
   ],
   "source": [
    "import re\n",
    "from collections import Counter\n",
    "import collections \n",
    "with open('text.txt', 'r') as file:\n",
    "    mytext = file.read().lower()\n",
    "\n",
    "count = len(re.findall(r'\\w+', mytext ))\n",
    "count1 = (re.findall(r'\\w+', mytext ))\n",
    "print (count)\n",
    "\n",
    "\n",
    "z = Counter(count1).most_common(100)\n",
    "print(z)\n",
    "\n",
    "\n"
   ]
  },
  {
   "cell_type": "code",
   "execution_count": null,
   "metadata": {},
   "outputs": [],
   "source": []
  },
  {
   "cell_type": "code",
   "execution_count": null,
   "metadata": {},
   "outputs": [],
   "source": []
  }
 ],
 "metadata": {
  "kernelspec": {
   "display_name": "Python 3",
   "language": "python",
   "name": "python3"
  },
  "language_info": {
   "codemirror_mode": {
    "name": "ipython",
    "version": 3
   },
   "file_extension": ".py",
   "mimetype": "text/x-python",
   "name": "python",
   "nbconvert_exporter": "python",
   "pygments_lexer": "ipython3",
   "version": "3.7.3"
  }
 },
 "nbformat": 4,
 "nbformat_minor": 2
}
