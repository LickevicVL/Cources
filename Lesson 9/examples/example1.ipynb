{
 "cells": [
  {
   "cell_type": "code",
   "execution_count": 1,
   "metadata": {},
   "outputs": [],
   "source": [
    "import numpy as np"
   ]
  },
  {
   "cell_type": "code",
   "execution_count": 2,
   "metadata": {},
   "outputs": [
    {
     "data": {
      "text/plain": [
       "array([1, 2, 3])"
      ]
     },
     "execution_count": 2,
     "metadata": {},
     "output_type": "execute_result"
    }
   ],
   "source": [
    "array = np.array([1, 2, 3]) # создание вектора (матрицы, если указать другую размерность)\n",
    "array"
   ]
  },
  {
   "cell_type": "code",
   "execution_count": 3,
   "metadata": {},
   "outputs": [
    {
     "data": {
      "text/plain": [
       "array([[1., 0., 0., 0., 0., 0., 0., 0., 0., 0.],\n",
       "       [0., 1., 0., 0., 0., 0., 0., 0., 0., 0.],\n",
       "       [0., 0., 1., 0., 0., 0., 0., 0., 0., 0.],\n",
       "       [0., 0., 0., 1., 0., 0., 0., 0., 0., 0.],\n",
       "       [0., 0., 0., 0., 1., 0., 0., 0., 0., 0.],\n",
       "       [0., 0., 0., 0., 0., 1., 0., 0., 0., 0.],\n",
       "       [0., 0., 0., 0., 0., 0., 1., 0., 0., 0.],\n",
       "       [0., 0., 0., 0., 0., 0., 0., 1., 0., 0.],\n",
       "       [0., 0., 0., 0., 0., 0., 0., 0., 1., 0.],\n",
       "       [0., 0., 0., 0., 0., 0., 0., 0., 0., 1.]])"
      ]
     },
     "execution_count": 3,
     "metadata": {},
     "output_type": "execute_result"
    }
   ],
   "source": [
    "np.eye(10)  # едуничная матрица"
   ]
  },
  {
   "cell_type": "code",
   "execution_count": 4,
   "metadata": {},
   "outputs": [
    {
     "name": "stdout",
     "output_type": "stream",
     "text": [
      "[0.  0.2 0.4 0.6 0.8]\n",
      "[0.         0.07142857 0.14285714 0.21428571 0.28571429 0.35714286\n",
      " 0.42857143 0.5        0.57142857 0.64285714 0.71428571 0.78571429\n",
      " 0.85714286 0.92857143 1.        ]\n"
     ]
    }
   ],
   "source": [
    "print(np.arange(0, 1, 0.2))  # range с дробым шагом\n",
    "print(np.linspace(0, 1, 15))  # тоже самое, нужно указать количество шагов "
   ]
  },
  {
   "cell_type": "code",
   "execution_count": 5,
   "metadata": {},
   "outputs": [
    {
     "data": {
      "text/plain": [
       "array([[ 7,  2, -9],\n",
       "       [ 0,  0,  3]])"
      ]
     },
     "execution_count": 5,
     "metadata": {},
     "output_type": "execute_result"
    }
   ],
   "source": [
    "res = np.array([[1, 2, 3], [1, 0, -3]]) * np.array([[7, 1, -3], [0, 2, -1]])  # операции над матрицами\n",
    "res"
   ]
  },
  {
   "cell_type": "code",
   "execution_count": 6,
   "metadata": {},
   "outputs": [
    {
     "data": {
      "text/plain": [
       "array([[10,  2],\n",
       "       [ 4,  4]])"
      ]
     },
     "execution_count": 6,
     "metadata": {},
     "output_type": "execute_result"
    }
   ],
   "source": [
    "np.array([[1, 2, 3], [1, 0, -3]]).dot(np.array([[7, 1], [0, 2], [1, -1]]))"
   ]
  },
  {
   "cell_type": "code",
   "execution_count": 7,
   "metadata": {},
   "outputs": [
    {
     "data": {
      "text/plain": [
       "array([[10,  2],\n",
       "       [ 4,  4]])"
      ]
     },
     "execution_count": 7,
     "metadata": {},
     "output_type": "execute_result"
    }
   ],
   "source": [
    "np.array([[1, 2, 3], [1, 0, -3]]) @ np.array([[7, 1], [0, 2], [1, -1]])"
   ]
  },
  {
   "cell_type": "code",
   "execution_count": 8,
   "metadata": {},
   "outputs": [
    {
     "data": {
      "text/plain": [
       "array([[ 7,  0],\n",
       "       [ 2,  0],\n",
       "       [-9,  3]])"
      ]
     },
     "execution_count": 8,
     "metadata": {},
     "output_type": "execute_result"
    }
   ],
   "source": [
    "res.transpose()"
   ]
  },
  {
   "cell_type": "code",
   "execution_count": 9,
   "metadata": {},
   "outputs": [
    {
     "data": {
      "text/plain": [
       "(2, 3)"
      ]
     },
     "execution_count": 9,
     "metadata": {},
     "output_type": "execute_result"
    }
   ],
   "source": [
    "res.shape  # размерность матрицы"
   ]
  },
  {
   "cell_type": "code",
   "execution_count": 10,
   "metadata": {},
   "outputs": [
    {
     "data": {
      "text/plain": [
       "array([[3, 3, 0, 3, 9, 6, 5, 6, 8, 4],\n",
       "       [2, 5, 5, 1, 7, 4, 4, 1, 1, 4],\n",
       "       [8, 9, 6, 8, 8, 1, 8, 2, 4, 3],\n",
       "       [8, 4, 0, 9, 9, 0, 2, 6, 2, 5],\n",
       "       [8, 5, 1, 4, 4, 8, 9, 9, 1, 9],\n",
       "       [2, 0, 8, 6, 2, 5, 7, 9, 5, 8],\n",
       "       [6, 7, 1, 2, 5, 6, 0, 0, 7, 9],\n",
       "       [1, 2, 7, 1, 2, 2, 6, 7, 2, 8],\n",
       "       [7, 8, 9, 4, 8, 0, 1, 1, 5, 0],\n",
       "       [7, 0, 4, 4, 2, 9, 8, 3, 9, 4]])"
      ]
     },
     "execution_count": 10,
     "metadata": {},
     "output_type": "execute_result"
    }
   ],
   "source": [
    "np.random.randint(0, 10, (10, 10))  # матрица с рандомными числами"
   ]
  },
  {
   "cell_type": "code",
   "execution_count": 11,
   "metadata": {},
   "outputs": [
    {
     "data": {
      "text/plain": [
       "array([0, 0, 2])"
      ]
     },
     "execution_count": 11,
     "metadata": {},
     "output_type": "execute_result"
    }
   ],
   "source": [
    "np.random.choice(5, 3)"
   ]
  },
  {
   "cell_type": "code",
   "execution_count": 12,
   "metadata": {},
   "outputs": [
    {
     "data": {
      "text/plain": [
       "array([[0.536032  , 0.56605306],\n",
       "       [0.96934279, 0.48980074],\n",
       "       [0.18060549, 0.8779213 ],\n",
       "       [0.21172838, 0.69156769],\n",
       "       [0.34715534, 0.80411807],\n",
       "       [0.72727398, 0.82247911],\n",
       "       [0.28580672, 0.54721775],\n",
       "       [0.14711043, 0.44560486],\n",
       "       [0.7579182 , 0.13282312],\n",
       "       [0.42801213, 0.64522264]])"
      ]
     },
     "execution_count": 12,
     "metadata": {},
     "output_type": "execute_result"
    }
   ],
   "source": [
    "np.random.rand(10, 2)"
   ]
  },
  {
   "cell_type": "code",
   "execution_count": 13,
   "metadata": {},
   "outputs": [
    {
     "data": {
      "text/plain": [
       "array([[3.07789814, 3.2374957 , 2.98432029, 3.01614598, 3.2565549 ,\n",
       "        2.01484387, 4.10690689, 3.15311932, 2.22588946, 3.8522662 ],\n",
       "       [2.42541082, 2.90188699, 2.83009859, 3.00510003, 2.4517038 ,\n",
       "        1.89041036, 3.48135882, 2.1581396 , 1.92714635, 3.48568917],\n",
       "       [1.90366934, 2.41396547, 2.47004738, 2.64578329, 2.08815997,\n",
       "        1.50427394, 3.15978479, 2.053227  , 1.97258149, 2.62805303],\n",
       "       [1.95228435, 2.29678529, 2.15209125, 2.74500087, 2.16443355,\n",
       "        1.47013641, 2.63810778, 2.14850348, 2.0648528 , 2.65190959],\n",
       "       [2.13488386, 2.43767358, 2.81783252, 2.41532195, 3.0003854 ,\n",
       "        1.94043218, 2.75484889, 3.3088004 , 2.35614421, 3.66834007],\n",
       "       [2.10319801, 2.6560992 , 2.39685539, 2.57647439, 2.63449034,\n",
       "        2.09226524, 2.41036961, 2.84421363, 2.22356468, 3.28060393],\n",
       "       [2.03777196, 2.77138624, 1.85859666, 2.26147466, 2.00694462,\n",
       "        1.40483064, 2.9022914 , 1.85034112, 1.27193205, 2.54370318],\n",
       "       [3.24843603, 3.46817043, 3.01386378, 3.17696494, 3.68427679,\n",
       "        1.74309669, 3.67244317, 3.65393196, 2.41363171, 4.45704845],\n",
       "       [2.45414414, 3.12330414, 3.4694877 , 3.50049012, 2.8976938 ,\n",
       "        2.40593167, 3.31980556, 2.92455967, 2.82078083, 3.97749307],\n",
       "       [2.76171312, 3.46870364, 3.66253133, 3.43611733, 3.52023398,\n",
       "        2.44283708, 4.10471161, 3.65877254, 3.03816841, 4.39771225]])"
      ]
     },
     "execution_count": 13,
     "metadata": {},
     "output_type": "execute_result"
    }
   ],
   "source": [
    "# линейная алгебра\n",
    "matrix = np.linalg.matrix_power(np.random.rand(10, 10), 2)  # возведение матрицы в степень\n",
    "matrix"
   ]
  },
  {
   "cell_type": "code",
   "execution_count": 14,
   "metadata": {},
   "outputs": [
    {
     "data": {
      "text/plain": [
       "(array([[-0.35398059,  0.21041802,  0.36271809,  0.32256515, -0.12347423,\n",
       "          0.15579246,  0.66886341, -0.29090937,  0.00918106,  0.15231981],\n",
       "        [-0.30425163,  0.39377248, -0.13849845, -0.07561813, -0.29958253,\n",
       "         -0.5574632 ,  0.15942084,  0.49371664,  0.13485127, -0.19900592],\n",
       "        [-0.26089763,  0.31586925, -0.25314721,  0.37013688,  0.23883466,\n",
       "          0.20888301, -0.19828651, -0.12733005, -0.34718851, -0.59525605],\n",
       "        [-0.25356558,  0.09911251, -0.21420597, -0.14377409,  0.7064768 ,\n",
       "          0.19813638,  0.19931268,  0.40045544,  0.03510627,  0.34588434],\n",
       "        [-0.30561185, -0.5491794 ,  0.06758861,  0.26700176, -0.21022342,\n",
       "         -0.00924125, -0.0445224 ,  0.39531815, -0.55281515,  0.14492294],\n",
       "        [-0.28543221, -0.34502092, -0.08810708, -0.55353145, -0.16183841,\n",
       "          0.38620587,  0.26341571,  0.01439953,  0.14370938, -0.46875887],\n",
       "        [-0.24006085,  0.46562401,  0.23043026, -0.36802718, -0.29930833,\n",
       "          0.36608002, -0.41010018,  0.03735751, -0.23366933,  0.29873701],\n",
       "        [-0.37359616, -0.14993011,  0.60771157, -0.16955776,  0.39515595,\n",
       "         -0.38924625, -0.26862378, -0.16490071,  0.06329713, -0.16989793],\n",
       "        [-0.35078923, -0.09006609, -0.53250442, -0.21014969, -0.04306882,\n",
       "         -0.33142624, -0.0045598 , -0.55643292, -0.18158864,  0.29461851],\n",
       "        [-0.39324175, -0.15177847, -0.1448536 ,  0.38277615, -0.14449491,\n",
       "          0.19355206, -0.36936688,  0.01867919,  0.66492047,  0.13260039]]),\n",
       " array([2.80673734e+01, 1.76865855e+00, 1.43467860e+00, 7.25909693e-01,\n",
       "        5.80695133e-01, 5.13334003e-01, 2.95390968e-01, 1.22630816e-01,\n",
       "        7.75828313e-02, 9.36840540e-03]),\n",
       " array([[-0.27510994, -0.32653121, -0.31646515, -0.32602952, -0.31781524,\n",
       "         -0.21508575, -0.36995385, -0.31888426, -0.25504766, -0.40046938],\n",
       "        [ 0.18150682,  0.29490199, -0.05281866,  0.25457158, -0.25167486,\n",
       "         -0.10911633,  0.58168532, -0.52506004, -0.2776038 , -0.21479117],\n",
       "        [ 0.40160295,  0.1259422 , -0.37270495, -0.38593067,  0.326601  ,\n",
       "         -0.37075417,  0.10768395,  0.27701628, -0.43225104,  0.1253016 ],\n",
       "        [-0.16557605, -0.50674198,  0.3538771 , -0.33376776,  0.06173301,\n",
       "         -0.23524194,  0.60035411,  0.13697139,  0.13307204, -0.15206279],\n",
       "        [ 0.18432956, -0.18428026, -0.22433136,  0.52526279,  0.09619207,\n",
       "         -0.6062373 , -0.09373224,  0.08939016,  0.40487794, -0.21990631],\n",
       "        [-0.18087488,  0.2923552 , -0.39832201, -0.07771724,  0.03304426,\n",
       "          0.32511969,  0.2229693 ,  0.39854179,  0.21408995, -0.59660055],\n",
       "        [ 0.59713804, -0.55970727, -0.16280203,  0.08163585,  0.06962464,\n",
       "          0.51076835,  0.01856949, -0.09842185, -0.02627172, -0.14328723],\n",
       "        [-0.47129347, -0.29603722, -0.52858208,  0.30597061,  0.07190703,\n",
       "          0.11028509,  0.2787518 ,  0.03077414, -0.1649549 ,  0.44049318],\n",
       "        [ 0.06590782,  0.11463312, -0.31610156, -0.41887924,  0.13129999,\n",
       "          0.00276571,  0.08973036, -0.47984134,  0.62467146,  0.24773852],\n",
       "        [-0.23008936,  0.01671923,  0.13458578,  0.10426624,  0.82919921,\n",
       "          0.0524698 , -0.09030763, -0.34556884, -0.15956904, -0.27282705]]))"
      ]
     },
     "execution_count": 14,
     "metadata": {},
     "output_type": "execute_result"
    }
   ],
   "source": [
    "np.linalg.svd(matrix)  # сингулярное разложение матрица"
   ]
  },
  {
   "cell_type": "code",
   "execution_count": 15,
   "metadata": {},
   "outputs": [
    {
     "data": {
      "text/plain": [
       "array([[ 1.00000000e+00,  1.04210988e-14,  3.85835138e-14,\n",
       "        -3.01877955e-15, -2.39888152e-15, -9.02408455e-15,\n",
       "         1.48644717e-14, -1.83512155e-15,  7.10542736e-15,\n",
       "         7.10542736e-15],\n",
       "       [ 3.75115284e-15,  1.00000000e+00,  3.82913854e-14,\n",
       "        -6.01926068e-15,  4.50035192e-15, -4.23880040e-16,\n",
       "        -4.64047699e-15, -1.05908847e-16, -7.10542736e-15,\n",
       "         0.00000000e+00],\n",
       "       [ 1.12775956e-14,  5.04799245e-15,  1.00000000e+00,\n",
       "        -6.05133756e-15,  1.65011376e-16, -6.96586630e-15,\n",
       "         1.36100694e-14, -6.98386621e-16,  0.00000000e+00,\n",
       "         0.00000000e+00],\n",
       "       [ 5.51381722e-15, -5.46586953e-15,  1.98599622e-14,\n",
       "         1.00000000e+00, -5.59696111e-15, -1.32064129e-14,\n",
       "         7.30743726e-15,  5.46744687e-15,  0.00000000e+00,\n",
       "         0.00000000e+00],\n",
       "       [ 1.41720518e-14,  1.51568571e-15,  4.74189570e-14,\n",
       "        -2.51035814e-15,  1.00000000e+00, -4.10911015e-15,\n",
       "         7.86350506e-15, -3.18270684e-15,  7.10542736e-15,\n",
       "         0.00000000e+00],\n",
       "       [ 4.42688662e-15, -3.80620189e-15,  2.97796111e-14,\n",
       "        -1.71759355e-14, -3.78314642e-16,  1.00000000e+00,\n",
       "         1.82138703e-14, -9.53527047e-17,  0.00000000e+00,\n",
       "        -3.55271368e-15],\n",
       "       [ 1.08256129e-14, -8.03347843e-15,  1.69882147e-14,\n",
       "        -1.08659926e-14, -4.28811056e-15, -3.79412956e-15,\n",
       "         1.00000000e+00,  4.02181044e-15, -7.10542736e-15,\n",
       "         3.55271368e-15],\n",
       "       [ 1.19757569e-14, -8.58228046e-15,  1.32117264e-14,\n",
       "        -1.51782032e-14, -1.13900711e-14, -2.31834625e-14,\n",
       "         2.26655577e-15,  1.00000000e+00,  0.00000000e+00,\n",
       "         0.00000000e+00],\n",
       "       [ 8.10471020e-15, -4.13952176e-15,  3.11379424e-14,\n",
       "        -6.18661907e-15, -8.96647816e-15, -2.38255644e-14,\n",
       "         9.13456458e-15,  3.62516522e-15,  1.00000000e+00,\n",
       "         0.00000000e+00],\n",
       "       [ 9.22863094e-15,  6.27377166e-15,  5.85625263e-14,\n",
       "        -1.27271404e-14,  5.46585022e-15,  1.99058599e-14,\n",
       "         1.32867587e-14,  1.42457126e-14,  0.00000000e+00,\n",
       "         1.00000000e+00]])"
      ]
     },
     "execution_count": 15,
     "metadata": {},
     "output_type": "execute_result"
    }
   ],
   "source": [
    "inv_matrix = np.linalg.inv(matrix)  # обратная матрица\n",
    "matrix @ inv_matrix"
   ]
  },
  {
   "cell_type": "code",
   "execution_count": 16,
   "metadata": {},
   "outputs": [],
   "source": [
    "# графики\n",
    "import matplotlib.pyplot as plt"
   ]
  },
  {
   "cell_type": "code",
   "execution_count": 17,
   "metadata": {},
   "outputs": [
    {
     "data": {
      "image/png": "[encoded data removed]",
      "text/plain": [
       "<Figure size 432x288 with 1 Axes>"
      ]
     },
     "metadata": {
      "needs_background": "light"
     },
     "output_type": "display_data"
    }
   ],
   "source": [
    "import math\n",
    "\n",
    "x = np.arange(0, 10, 0.1)\n",
    "plt.plot(x, [math.exp(i) for i in x])  # рисуем график функции\n",
    "plt.show()"
   ]
  },
  {
   "cell_type": "code",
   "execution_count": 18,
   "metadata": {},
   "outputs": [
    {
     "data": {
      "image/png": "[encoded data removed]",
      "text/plain": [
       "<Figure size 432x288 with 1 Axes>"
      ]
     },
     "metadata": {
      "needs_background": "light"
     },
     "output_type": "display_data"
    }
   ],
   "source": [
    "x = range(20)\n",
    "plt.plot(x, [math.sqrt(i) for i in x], 'ro')  # отображение точек\n",
    "plt.show()"
   ]
  },
  {
   "cell_type": "code",
   "execution_count": 19,
   "metadata": {},
   "outputs": [
    {
     "data": {
      "image/png": "[encoded data removed]",
      "text/plain": [
       "<Figure size 432x288 with 1 Axes>"
      ]
     },
     "metadata": {
      "needs_background": "light"
     },
     "output_type": "display_data"
    }
   ],
   "source": [
    "# рисуем фигуры\n",
    "from matplotlib.patches import Rectangle\n",
    "\n",
    "_, ax = plt.subplots()\n",
    "ax.set_xlim(xmin=-10, xmax=10)\n",
    "ax.set_ylim(ymin=-10, ymax=10)\n",
    "ax.add_patch(Rectangle((-5, -3), 10, 6))\n",
    "plt.show()"
   ]
  },
  {
   "cell_type": "code",
   "execution_count": 20,
   "metadata": {},
   "outputs": [
    {
     "data": {
      "image/png": "[encoded data removed]",
      "text/plain": [
       "<Figure size 432x288 with 1 Axes>"
      ]
     },
     "metadata": {
      "needs_background": "light"
     },
     "output_type": "display_data"
    }
   ],
   "source": [
    "rng = np.arange(50)\n",
    "rnd = np.random.randint(0, 10, size=(3, rng.size))\n",
    "yrs = 1950 + rng\n",
    "\n",
    "_, ax = plt.subplots()\n",
    "ax.stackplot(yrs, rng + rnd, labels=['1', '2', '3'])  # отображения нескольких значений для одного x\n",
    "ax.set_title('Hi, I\\'m title')  # добавления титла\n",
    "ax.legend(loc='upper left')  # легенда\n",
    "ax.set_ylabel('Total debt')  # история\n",
    "ax.set_xlim(xmin=yrs[0], xmax=yrs[-1])  # границы x\n",
    "\n",
    "plt.show()"
   ]
  }
 ],
 "metadata": {
  "kernelspec": {
   "display_name": "Python 3",
   "language": "python",
   "name": "python3"
  },
  "language_info": {
   "codemirror_mode": {
    "name": "ipython",
    "version": 3
   },
   "file_extension": ".py",
   "mimetype": "text/x-python",
   "name": "python",
   "nbconvert_exporter": "python",
   "pygments_lexer": "ipython3",
   "version": "3.7.3"
  }
 },
 "nbformat": 4,
 "nbformat_minor": 4
}
