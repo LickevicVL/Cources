{
 "cells": [
  {
   "cell_type": "code",
   "execution_count": 1,
   "metadata": {},
   "outputs": [
    {
     "data": {
      "text/plain": [
       "6039488"
      ]
     },
     "execution_count": 1,
     "metadata": {},
     "output_type": "execute_result"
    }
   ],
   "source": [
    "import requests\n",
    "from io import StringIO\n",
    "\n",
    "# скачиваем данные и сохраняем их в память\n",
    "response = requests.get('https://vk.com/doc9032467_464972815?hash=2c772f61730eafb450&dl=85218bc0cf9db73adc')\n",
    "data = StringIO()\n",
    "data.write(response.text)\n"
   ]
  },
  {
   "cell_type": "code",
   "execution_count": 2,
   "metadata": {},
   "outputs": [
    {
     "data": {
      "text/html": [
       "<div>\n",
       "<style scoped>\n",
       "    .dataframe tbody tr th:only-of-type {\n",
       "        vertical-align: middle;\n",
       "    }\n",
       "\n",
       "    .dataframe tbody tr th {\n",
       "        vertical-align: top;\n",
       "    }\n",
       "\n",
       "    .dataframe thead th {\n",
       "        text-align: right;\n",
       "    }\n",
       "</style>\n",
       "<table border=\"1\" class=\"dataframe\">\n",
       "  <thead>\n",
       "    <tr style=\"text-align: right;\">\n",
       "      <th></th>\n",
       "      <th>context_2</th>\n",
       "      <th>context_1</th>\n",
       "      <th>context_0</th>\n",
       "      <th>reply</th>\n",
       "      <th>label</th>\n",
       "    </tr>\n",
       "  </thead>\n",
       "  <tbody>\n",
       "    <tr>\n",
       "      <th>38301</th>\n",
       "      <td>NaN</td>\n",
       "      <td>NaN</td>\n",
       "      <td>нет , юный чародей , ведь всё , что вы хотели ...</td>\n",
       "      <td>как красиво</td>\n",
       "      <td>good</td>\n",
       "    </tr>\n",
       "    <tr>\n",
       "      <th>55539</th>\n",
       "      <td>открывай , это твои родители .</td>\n",
       "      <td>что ты там делаешь ?</td>\n",
       "      <td>открывай !</td>\n",
       "      <td>открывай , мать твою !</td>\n",
       "      <td>good</td>\n",
       "    </tr>\n",
       "    <tr>\n",
       "      <th>44944</th>\n",
       "      <td>NaN</td>\n",
       "      <td>сними шляпу .</td>\n",
       "      <td>расслабься .</td>\n",
       "      <td>нет .</td>\n",
       "      <td>neutral</td>\n",
       "    </tr>\n",
       "  </tbody>\n",
       "</table>\n",
       "</div>"
      ],
      "text/plain": [
       "                            context_2             context_1  \\\n",
       "38301                             NaN                   NaN   \n",
       "55539  открывай , это твои родители .  что ты там делаешь ?   \n",
       "44944                             NaN         сними шляпу .   \n",
       "\n",
       "                                               context_0  \\\n",
       "38301  нет , юный чародей , ведь всё , что вы хотели ...   \n",
       "55539                                         открывай !   \n",
       "44944                                       расслабься .   \n",
       "\n",
       "                        reply    label  \n",
       "38301             как красиво     good  \n",
       "55539  открывай , мать твою !     good  \n",
       "44944                   нет .  neutral  "
      ]
     },
     "execution_count": 2,
     "metadata": {},
     "output_type": "execute_result"
    }
   ],
   "source": [
    "import pandas as pd\n",
    "\n",
    "data.seek(0)\n",
    "\n",
    "# обработка csv файла (табуляция выступает в качестве разделителя)\n",
    "good = pd.read_csv(data, sep='\\t')\n",
    "# вывод 3 случайных строк данных\n",
    "good.sample(3)"
   ]
  },
  {
   "cell_type": "code",
   "execution_count": 3,
   "metadata": {},
   "outputs": [
    {
     "name": "stdout",
     "output_type": "stream",
     "text": [
      "13482                                затем , что это сэм .\n",
      "13483    затем , что ты поимел секретаршу и обязан мне ...\n",
      "13484    затем , что если ты не будешь их ставить менед...\n",
      "13485                 потому что , он просил вас об этом !\n",
      "13486                            потому что он любит вас .\n",
      "Name: reply, dtype: object\n"
     ]
    }
   ],
   "source": [
    "# поиск ответов на вопрос\n",
    "rep = good[good.context_0 == 'зачем мне его принимать ?'].reply\n",
    "print(rep)"
   ]
  },
  {
   "cell_type": "code",
   "execution_count": 4,
   "metadata": {},
   "outputs": [
    {
     "name": "stdout",
     "output_type": "stream",
     "text": [
      "(60049, 14123)\n"
     ]
    }
   ],
   "source": [
    "# немного машинного обучения: scikit-learn пакетик\n",
    "from sklearn.feature_extraction.text import TfidfVectorizer\n",
    "\n",
    "# создаём матрицу из наших данных\n",
    "# представляем каждый вопрос как вектор, где для каждого слова соответствует количество повторений в вопросе\n",
    "vectorizer = TfidfVectorizer()\n",
    "vectorizer.fit(good.context_0)  # находим частоту каждого слова\n",
    "matrix_big = vectorizer.transform(good.context_0)  # создаём матрицу\n",
    "print(matrix_big.shape)  # очень большая матрица"
   ]
  },
  {
   "cell_type": "code",
   "execution_count": 5,
   "metadata": {},
   "outputs": [
    {
     "name": "stdout",
     "output_type": "stream",
     "text": [
      "(60049, 1000)\n",
      "0.6158311534393656\n"
     ]
    }
   ],
   "source": [
    "# метод клавных компонент или сокращение матрицы\n",
    "from sklearn.decomposition import TruncatedSVD\n",
    "\n",
    "# сжимаем матрицу до 1000 столбцов\n",
    "svd = TruncatedSVD(n_components=1000)\n",
    "svd.fit(matrix_big)\n",
    "matrix_small = svd.transform(matrix_big)\n",
    "print(matrix_small.shape)\n",
    "print(svd.explained_variance_ratio_.sum())  # сколько информации сохранилось"
   ]
  },
  {
   "cell_type": "code",
   "execution_count": 6,
   "metadata": {},
   "outputs": [],
   "source": [
    "# поиск ближайшего соседа\n",
    "from sklearn.neighbors import KNeighborsClassifier\n",
    "from sklearn.pipeline import make_pipeline\n",
    "import numpy as np\n",
    "from functools import partial\n",
    "\n",
    "# творим магию\n",
    "def predict(self, X):\n",
    "    _, indices = self.kneighbors(X, n_neighbors=10)\n",
    "    result = []\n",
    "    y = np.array(good.reply)\n",
    "    for index in indices:\n",
    "        result.append(np.random.choice(index))\n",
    "    \n",
    "    return y[result]\n",
    "\n",
    "ns = KNeighborsClassifier(n_neighbors=100)\n",
    "ns.fit(matrix_small, good.reply)\n",
    "ns.predict = partial(predict, ns)\n",
    "pipeline = make_pipeline(vectorizer, svd, ns)"
   ]
  },
  {
   "cell_type": "code",
   "execution_count": 7,
   "metadata": {},
   "outputs": [
    {
     "name": "stdin",
     "output_type": "stream",
     "text": [
      "Вопрос:  ты кто ?\n"
     ]
    },
    {
     "name": "stdout",
     "output_type": "stream",
     "text": [
      "Вопрос не найден\n"
     ]
    },
    {
     "data": {
      "text/plain": [
       "'я это я .'"
      ]
     },
     "execution_count": 7,
     "metadata": {},
     "output_type": "execute_result"
    }
   ],
   "source": [
    "question = input('Вопрос: ')  # вопрос\n",
    "\n",
    "rep = good[good.context_0 == question].reply  # поиск ответов на вопрос в исходных данных\n",
    "if rep.shape[0] > 0:\n",
    "    print(rep)\n",
    "else:\n",
    "    print('Вопрос не найден')\n",
    "\n",
    "pipeline.predict([question])[0]  # поиск ближайшего соседа"
   ]
  }
 ],
 "metadata": {
  "kernelspec": {
   "display_name": "Python 3",
   "language": "python",
   "name": "python3"
  },
  "language_info": {
   "codemirror_mode": {
    "name": "ipython",
    "version": 3
   },
   "file_extension": ".py",
   "mimetype": "text/x-python",
   "name": "python",
   "nbconvert_exporter": "python",
   "pygments_lexer": "ipython3",
   "version": "3.7.3"
  }
 },
 "nbformat": 4,
 "nbformat_minor": 4
}
